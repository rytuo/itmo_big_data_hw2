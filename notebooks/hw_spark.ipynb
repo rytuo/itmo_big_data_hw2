{
 "cells": [
  {
   "cell_type": "markdown",
   "id": "f585a2e3-830d-4c05-92d4-f2708f59411e",
   "metadata": {},
   "source": [
    "# HW02"
   ]
  },
  {
   "cell_type": "markdown",
   "id": "f379b2d6-c1d4-47e9-b5b7-f6b8f848443b",
   "metadata": {},
   "source": [
    "### Part 1"
   ]
  },
  {
   "cell_type": "code",
   "execution_count": 1,
   "id": "fa18a541-a4e8-4810-8c26-ce4b9b651a99",
   "metadata": {},
   "outputs": [
    {
     "name": "stdout",
     "output_type": "stream",
     "text": [
      "Requirement already satisfied: pyspark in /usr/local/lib/python3.10/dist-packages (3.5.0)\n",
      "Requirement already satisfied: py4j==0.10.9.7 in /usr/local/lib/python3.10/dist-packages (from pyspark) (0.10.9.7)\n",
      "\u001b[33mWARNING: Running pip as the 'root' user can result in broken permissions and conflicting behaviour with the system package manager. It is recommended to use a virtual environment instead: https://pip.pypa.io/warnings/venv\u001b[0m\u001b[33m\n",
      "\u001b[0mRequirement already satisfied: scikit-learn in /usr/local/lib/python3.10/dist-packages (1.3.2)\n",
      "Requirement already satisfied: scipy>=1.5.0 in /usr/local/lib/python3.10/dist-packages (from scikit-learn) (1.11.4)\n",
      "Requirement already satisfied: joblib>=1.1.1 in /usr/local/lib/python3.10/dist-packages (from scikit-learn) (1.3.2)\n",
      "Requirement already satisfied: numpy<2.0,>=1.17.3 in /usr/local/lib/python3.10/dist-packages (from scikit-learn) (1.26.2)\n",
      "Requirement already satisfied: threadpoolctl>=2.0.0 in /usr/local/lib/python3.10/dist-packages (from scikit-learn) (3.2.0)\n",
      "\u001b[33mWARNING: Running pip as the 'root' user can result in broken permissions and conflicting behaviour with the system package manager. It is recommended to use a virtual environment instead: https://pip.pypa.io/warnings/venv\u001b[0m\u001b[33m\n",
      "\u001b[0mRequirement already satisfied: pandas in /usr/local/lib/python3.10/dist-packages (2.1.4)\n",
      "Requirement already satisfied: numpy<2,>=1.22.4 in /usr/local/lib/python3.10/dist-packages (from pandas) (1.26.2)\n",
      "Requirement already satisfied: python-dateutil>=2.8.2 in /usr/local/lib/python3.10/dist-packages (from pandas) (2.8.2)\n",
      "Requirement already satisfied: pytz>=2020.1 in /usr/local/lib/python3.10/dist-packages (from pandas) (2023.3.post1)\n",
      "Requirement already satisfied: tzdata>=2022.1 in /usr/local/lib/python3.10/dist-packages (from pandas) (2023.3)\n",
      "Requirement already satisfied: six>=1.5 in /usr/local/lib/python3.10/dist-packages (from python-dateutil>=2.8.2->pandas) (1.16.0)\n",
      "\u001b[33mWARNING: Running pip as the 'root' user can result in broken permissions and conflicting behaviour with the system package manager. It is recommended to use a virtual environment instead: https://pip.pypa.io/warnings/venv\u001b[0m\u001b[33m\n",
      "\u001b[0m"
     ]
    }
   ],
   "source": [
    "!pip install pyspark\n",
    "!pip install scikit-learn\n",
    "!pip install pandas"
   ]
  },
  {
   "cell_type": "code",
   "execution_count": 2,
   "id": "bfcb3297-2fe0-497e-9886-db37926da293",
   "metadata": {},
   "outputs": [],
   "source": [
    "import os\n",
    "\n",
    "from pyspark import SparkContext, SparkConf\n",
    "from pyspark.sql import SparkSession, Row\n",
    "from pyspark.sql import functions as f\n",
    "from pyspark.sql.types import *\n",
    "\n",
    "import pandas as pd\n",
    "\n",
    "from sklearn.pipeline import make_pipeline\n",
    "from sklearn.feature_extraction.text import TfidfVectorizer\n",
    "from sklearn.linear_model import SGDRegressor\n",
    "from sklearn.metrics import mean_squared_error"
   ]
  },
  {
   "cell_type": "code",
   "execution_count": 3,
   "id": "f608bf55-df79-4709-825c-fe0655a7e5d6",
   "metadata": {},
   "outputs": [
    {
     "name": "stdout",
     "output_type": "stream",
     "text": [
      "Safe mode is OFF\n"
     ]
    }
   ],
   "source": [
    "!hdfs dfsadmin -safemode leave"
   ]
  },
  {
   "cell_type": "code",
   "execution_count": 4,
   "id": "f9d495ec-d1f6-451b-bab1-4a1e2cc00040",
   "metadata": {},
   "outputs": [],
   "source": [
    "conf = SparkConf() \\\n",
    "    .setAppName(\"popov_spark\") \\\n",
    "    .set(\"spark.executor.instances\", \"2\") \\\n",
    "    .set(\"spark.executor.cores\", \"1\") \\\n",
    "    .set(\"spark.executor.memory\", \"1g\")"
   ]
  },
  {
   "cell_type": "code",
   "execution_count": 5,
   "id": "f9c259f5-a829-4b1b-ac91-345de8709160",
   "metadata": {},
   "outputs": [
    {
     "name": "stderr",
     "output_type": "stream",
     "text": [
      "Setting default log level to \"WARN\".\n",
      "To adjust logging level use sc.setLogLevel(newLevel). For SparkR, use setLogLevel(newLevel).\n",
      "23/12/26 01:37:03 WARN Client: Neither spark.yarn.jars nor spark.yarn.archive is set, falling back to uploading libraries under SPARK_HOME.\n"
     ]
    }
   ],
   "source": [
    "spark = SparkSession.builder \\\n",
    "    .config(conf=conf) \\\n",
    "    .master(master=\"yarn\") \\\n",
    "    .getOrCreate()"
   ]
  },
  {
   "cell_type": "markdown",
   "id": "eee7d926-330a-4f3c-b5d2-909b8b1b83fe",
   "metadata": {},
   "source": [
    "![yarn1](./img/yarn1.png)\n",
    "![yarn2](./img/yarn2.png)\n",
    "![spark](./img/spark.png)"
   ]
  },
  {
   "cell_type": "code",
   "execution_count": 6,
   "id": "6dc13b79-0d42-4f75-b9fb-9d3539261f86",
   "metadata": {},
   "outputs": [],
   "source": [
    "data_dir = 'ml-latest-small'\n",
    "ratings_path = os.path.join(data_dir, 'ratings.csv')\n",
    "tags_path = os.path.join(data_dir, 'tags.csv')"
   ]
  },
  {
   "cell_type": "code",
   "execution_count": 7,
   "id": "e041107b-109a-4037-bd7f-6da7535308fb",
   "metadata": {},
   "outputs": [
    {
     "name": "stderr",
     "output_type": "stream",
     "text": [
      "[Stage 0:>                                                          (0 + 1) / 1]\r"
     ]
    },
    {
     "name": "stdout",
     "output_type": "stream",
     "text": [
      "Ratings length: 100836\n"
     ]
    },
    {
     "name": "stderr",
     "output_type": "stream",
     "text": [
      "                                                                                \r"
     ]
    }
   ],
   "source": [
    "ratings_schema = StructType(fields=[\n",
    "    StructField(\"userId\", IntegerType()),\n",
    "    StructField(\"movieId\", IntegerType()),\n",
    "    StructField(\"rating\", DoubleType()),\n",
    "    StructField(\"timestamp\", LongType()),\n",
    "])\n",
    "\n",
    "ratings_df = spark.read \\\n",
    "    .option(\"header\", True) \\\n",
    "    .schema(ratings_schema) \\\n",
    "    .csv(ratings_path)\n",
    "print(f\"Ratings length: {ratings_df.count()}\")"
   ]
  },
  {
   "cell_type": "code",
   "execution_count": 8,
   "id": "b82bdd0a-03cf-4a41-9dcf-23d15314e609",
   "metadata": {},
   "outputs": [
    {
     "name": "stdout",
     "output_type": "stream",
     "text": [
      "Tags length: 3683\n"
     ]
    }
   ],
   "source": [
    "tags_schema = StructType(fields=[\n",
    "    StructField(\"userId\", IntegerType()),\n",
    "    StructField(\"movieId\", IntegerType()),\n",
    "    StructField(\"tag\", StringType()),\n",
    "    StructField(\"timestamp\", LongType()),\n",
    "])\n",
    "\n",
    "tags_df = spark.read \\\n",
    "    .option(\"header\", True) \\\n",
    "    .schema(tags_schema)\\\n",
    "    .csv(tags_path)\n",
    "print(f\"Tags length: {tags_df.count()}\")"
   ]
  },
  {
   "cell_type": "markdown",
   "id": "be0c799d-4555-4b9f-9abd-db24be72b13b",
   "metadata": {},
   "source": [
    "**For each dataset load:**\n",
    "- 2 stages - csv load and count\n",
    "- 6 tasks - 3 per stage\n",
    "![stages1](./img/stages1.png)\n",
    "![stages2](./img/stages2.png)"
   ]
  },
  {
   "cell_type": "code",
   "execution_count": 9,
   "id": "cde5a18a-ec22-4729-bea2-d6a134b637ed",
   "metadata": {},
   "outputs": [
    {
     "name": "stdout",
     "output_type": "stream",
     "text": [
      "Deleted ml-latest-small\n"
     ]
    }
   ],
   "source": [
    "!hdfs dfs -rm -r ml-latest-small"
   ]
  },
  {
   "cell_type": "code",
   "execution_count": 10,
   "id": "68ffd0b6-455d-49af-aa4c-3fd615c138d3",
   "metadata": {},
   "outputs": [],
   "source": [
    "!hdfs dfs -put ml-latest-small ."
   ]
  },
  {
   "cell_type": "markdown",
   "id": "78b843b3-4931-474a-af2d-fb83f66be086",
   "metadata": {},
   "source": [
    "### Part 2"
   ]
  },
  {
   "cell_type": "code",
   "execution_count": 11,
   "id": "0028d1f4-bd5c-481e-8f61-8bc7db96b43f",
   "metadata": {},
   "outputs": [
    {
     "data": {
      "text/plain": [
       "[Row(userId=1, movieId=1, rating=4.0, timestamp=964982703),\n",
       " Row(userId=1, movieId=3, rating=4.0, timestamp=964981247),\n",
       " Row(userId=1, movieId=6, rating=4.0, timestamp=964982224),\n",
       " Row(userId=1, movieId=47, rating=5.0, timestamp=964983815),\n",
       " Row(userId=1, movieId=50, rating=5.0, timestamp=964982931)]"
      ]
     },
     "execution_count": 11,
     "metadata": {},
     "output_type": "execute_result"
    }
   ],
   "source": [
    "ratings_df.take(5)"
   ]
  },
  {
   "cell_type": "code",
   "execution_count": 12,
   "id": "11c37f9f-0ff3-4947-ab8e-f2eb6d46f863",
   "metadata": {},
   "outputs": [
    {
     "data": {
      "text/plain": [
       "[Row(userId=2, movieId=60756, tag='funny', timestamp=1445714994),\n",
       " Row(userId=2, movieId=60756, tag='Highly quotable', timestamp=1445714996),\n",
       " Row(userId=2, movieId=60756, tag='will ferrell', timestamp=1445714992),\n",
       " Row(userId=2, movieId=89774, tag='Boxing story', timestamp=1445715207),\n",
       " Row(userId=2, movieId=89774, tag='MMA', timestamp=1445715200)]"
      ]
     },
     "execution_count": 12,
     "metadata": {},
     "output_type": "execute_result"
    }
   ],
   "source": [
    "tags_df.take(5)"
   ]
  },
  {
   "cell_type": "markdown",
   "id": "24742db1-e524-4bcc-ae50-e7e0341df5ba",
   "metadata": {},
   "source": [
    "- Посчитать количество уникальных фильмов и уникальных юзеров в таблице “ratings”"
   ]
  },
  {
   "cell_type": "code",
   "execution_count": 13,
   "id": "205b028d-1d77-4233-8022-f94529e2c5cf",
   "metadata": {},
   "outputs": [
    {
     "name": "stdout",
     "output_type": "stream",
     "text": [
      "Movies unique: 9724\n"
     ]
    }
   ],
   "source": [
    "movies_count = ratings_df \\\n",
    "    .select(\"movieId\") \\\n",
    "    .distinct() \\\n",
    "    .count()\n",
    "print(f\"Movies unique: {movies_count}\")"
   ]
  },
  {
   "cell_type": "code",
   "execution_count": 14,
   "id": "37650f76-aa31-438d-b4f0-a84a51480871",
   "metadata": {},
   "outputs": [
    {
     "name": "stdout",
     "output_type": "stream",
     "text": [
      "Users unique: 610\n"
     ]
    }
   ],
   "source": [
    "user_id_count = ratings_df \\\n",
    "    .select(\"userId\") \\\n",
    "    .distinct() \\\n",
    "    .count()\n",
    "print(f\"Users unique: {user_id_count}\")"
   ]
  },
  {
   "cell_type": "markdown",
   "id": "57a952e7-465f-4472-a98a-cbbf11828fae",
   "metadata": {},
   "source": [
    "- Посчитать, сколько было поставлено оценок >= 4.0"
   ]
  },
  {
   "cell_type": "code",
   "execution_count": 15,
   "id": "f75ad11f-cabe-468e-8009-b5b7cca5ac38",
   "metadata": {},
   "outputs": [
    {
     "data": {
      "text/plain": [
       "48580"
      ]
     },
     "execution_count": 15,
     "metadata": {},
     "output_type": "execute_result"
    }
   ],
   "source": [
    "good_rating_count = ratings_df \\\n",
    "    .where(f.col(\"rating\") >= 4.0) \\\n",
    "    .count()\n",
    "good_rating_count"
   ]
  },
  {
   "cell_type": "markdown",
   "id": "508393ea-2f8f-4954-88f0-f4d6ffec85ca",
   "metadata": {},
   "source": [
    "- Вывести топ100 фильмов с самым высоким рейтингом"
   ]
  },
  {
   "cell_type": "code",
   "execution_count": 16,
   "id": "ffe55f92-87d1-44f7-ad63-fca1ff12bcc1",
   "metadata": {},
   "outputs": [
    {
     "name": "stdout",
     "output_type": "stream",
     "text": [
      "+------------+-----------+\n",
      "|   movieName|movieRating|\n",
      "+------------+-----------+\n",
      "|  irreverent|        5.0|\n",
      "|    Cambodia|        5.0|\n",
      "|       crime|        5.0|\n",
      "|human rights|        5.0|\n",
      "|      murder|        5.0|\n",
      "+------------+-----------+\n",
      "only showing top 5 rows\n",
      "\n"
     ]
    }
   ],
   "source": [
    "top100_movies_ids = ratings_df \\\n",
    "    .groupBy(\"movieId\") \\\n",
    "    .agg(f.mean(\"rating\").alias(\"movieRating\")) \\\n",
    "    .sort(f.desc(\"movieRating\")) \\\n",
    "    .limit(100)\n",
    "\n",
    "top100_movies = tags_df \\\n",
    "    .join(f.broadcast(top100_movies_ids), on=['movieId'], how=\"inner\") \\\n",
    "    .select(f.col(\"tag\").alias(\"movieName\"), \"movieRating\") \\\n",
    "    .sort(f.desc(\"movieRating\"))\n",
    "\n",
    "top100_movies.show(5)"
   ]
  },
  {
   "cell_type": "markdown",
   "id": "112980b1-3f3c-41a1-807b-d2c4dd94ee13",
   "metadata": {},
   "source": [
    "- Посчитать разницу во времени в секундах между временем тегирования пользователя данного фильма и временем, когда пользователь поставил оценку фильму. В качестве ответа выведете среднюю дельту по времени."
   ]
  },
  {
   "cell_type": "code",
   "execution_count": 17,
   "id": "5b019071-99b9-45f9-9e67-d305ccd9a5e3",
   "metadata": {},
   "outputs": [
    {
     "name": "stdout",
     "output_type": "stream",
     "text": [
      "Mean delta: 44536397\n",
      "+------+-------+------------+\n",
      "|userId|movieId|  avg(delta)|\n",
      "+------+-------+------------+\n",
      "|    62| 108190|        13.0|\n",
      "|   474|    412|1.62008122E8|\n",
      "|   474|    551|1.62708921E8|\n",
      "|   474|   1348| 8.4353215E7|\n",
      "|   474|   1513| 9.0488464E7|\n",
      "+------+-------+------------+\n",
      "only showing top 5 rows\n",
      "\n"
     ]
    }
   ],
   "source": [
    "delta = tags_df.alias('l') \\\n",
    "    .join(ratings_df.alias('r'), on=['userId', 'movieId'], how='inner') \\\n",
    "    .withColumn('delta', f.col('l.timestamp') - f.col('r.timestamp')) \\\n",
    "    .groupBy('userId', 'movieId') \\\n",
    "    .mean('delta') \\\n",
    "    .cache()\n",
    "\n",
    "mean_delta = int(delta.agg(f.mean('avg(delta)')).first()['avg(avg(delta))'])\n",
    "print(f'Mean delta: {mean_delta}')\n",
    "delta.show(5)"
   ]
  },
  {
   "cell_type": "markdown",
   "id": "4dbb547c-0150-437d-bf17-2043213e5cd4",
   "metadata": {},
   "source": [
    "- Посчитать среднюю оценку от каждого пользователя, в качестве ответа выведете среднее от всех усредненных оценок всех пользователей"
   ]
  },
  {
   "cell_type": "code",
   "execution_count": 18,
   "id": "ef19eb9c-5d72-421f-ae84-2712edf5dfdc",
   "metadata": {},
   "outputs": [
    {
     "data": {
      "text/plain": [
       "3.6572223377474016"
      ]
     },
     "execution_count": 18,
     "metadata": {},
     "output_type": "execute_result"
    }
   ],
   "source": [
    "mean = ratings_df \\\n",
    "    .groupBy(\"userId\") \\\n",
    "    .mean(\"rating\") \\\n",
    "    .agg(f.mean(\"avg(rating)\")) \\\n",
    "    .first()[\"avg(avg(rating))\"]\n",
    "\n",
    "mean"
   ]
  },
  {
   "cell_type": "markdown",
   "id": "a95b6128-f834-4246-add7-0cf62636b787",
   "metadata": {},
   "source": [
    "### Part 3"
   ]
  },
  {
   "cell_type": "code",
   "execution_count": 19,
   "id": "1250675c-6602-4561-95c9-9491ff8bfb24",
   "metadata": {},
   "outputs": [
    {
     "data": {
      "text/html": [
       "<div>\n",
       "<style scoped>\n",
       "    .dataframe tbody tr th:only-of-type {\n",
       "        vertical-align: middle;\n",
       "    }\n",
       "\n",
       "    .dataframe tbody tr th {\n",
       "        vertical-align: top;\n",
       "    }\n",
       "\n",
       "    .dataframe thead th {\n",
       "        text-align: right;\n",
       "    }\n",
       "</style>\n",
       "<table border=\"1\" class=\"dataframe\">\n",
       "  <thead>\n",
       "    <tr style=\"text-align: right;\">\n",
       "      <th></th>\n",
       "      <th>tag</th>\n",
       "      <th>rating</th>\n",
       "    </tr>\n",
       "  </thead>\n",
       "  <tbody>\n",
       "    <tr>\n",
       "      <th>0</th>\n",
       "      <td>fun</td>\n",
       "      <td>4.0</td>\n",
       "    </tr>\n",
       "    <tr>\n",
       "      <th>1</th>\n",
       "      <td>pixar</td>\n",
       "      <td>4.0</td>\n",
       "    </tr>\n",
       "    <tr>\n",
       "      <th>2</th>\n",
       "      <td>pixar</td>\n",
       "      <td>4.0</td>\n",
       "    </tr>\n",
       "    <tr>\n",
       "      <th>3</th>\n",
       "      <td>old</td>\n",
       "      <td>4.0</td>\n",
       "    </tr>\n",
       "    <tr>\n",
       "      <th>4</th>\n",
       "      <td>moldy</td>\n",
       "      <td>4.0</td>\n",
       "    </tr>\n",
       "  </tbody>\n",
       "</table>\n",
       "</div>"
      ],
      "text/plain": [
       "     tag  rating\n",
       "0    fun     4.0\n",
       "1  pixar     4.0\n",
       "2  pixar     4.0\n",
       "3    old     4.0\n",
       "4  moldy     4.0"
      ]
     },
     "execution_count": 19,
     "metadata": {},
     "output_type": "execute_result"
    }
   ],
   "source": [
    "learning_df_spark = ratings_df \\\n",
    "    .join(tags_df, on=['movieId'], how='inner') \\\n",
    "    .select(\"tag\", \"rating\") \\\n",
    "    .cache()\n",
    "\n",
    "learning_df = learning_df_spark.toPandas()\n",
    "learning_df.head(5)"
   ]
  },
  {
   "cell_type": "code",
   "execution_count": 20,
   "id": "6b78fb47-a44b-4d74-b842-4b747a870ea0",
   "metadata": {},
   "outputs": [
    {
     "data": {
      "text/plain": [
       "233213"
      ]
     },
     "execution_count": 20,
     "metadata": {},
     "output_type": "execute_result"
    }
   ],
   "source": [
    "len(learning_df)"
   ]
  },
  {
   "cell_type": "code",
   "execution_count": 21,
   "id": "a82de4a9-9b49-4efc-9560-a576db9fd3db",
   "metadata": {},
   "outputs": [],
   "source": [
    "model = make_pipeline(TfidfVectorizer(), SGDRegressor(random_state=42))"
   ]
  },
  {
   "cell_type": "code",
   "execution_count": 22,
   "id": "3bc9b4ed-7306-419a-94a8-f3e85034968b",
   "metadata": {},
   "outputs": [
    {
     "data": {
      "text/html": [
       "<style>#sk-container-id-1 {color: black;}#sk-container-id-1 pre{padding: 0;}#sk-container-id-1 div.sk-toggleable {background-color: white;}#sk-container-id-1 label.sk-toggleable__label {cursor: pointer;display: block;width: 100%;margin-bottom: 0;padding: 0.3em;box-sizing: border-box;text-align: center;}#sk-container-id-1 label.sk-toggleable__label-arrow:before {content: \"▸\";float: left;margin-right: 0.25em;color: #696969;}#sk-container-id-1 label.sk-toggleable__label-arrow:hover:before {color: black;}#sk-container-id-1 div.sk-estimator:hover label.sk-toggleable__label-arrow:before {color: black;}#sk-container-id-1 div.sk-toggleable__content {max-height: 0;max-width: 0;overflow: hidden;text-align: left;background-color: #f0f8ff;}#sk-container-id-1 div.sk-toggleable__content pre {margin: 0.2em;color: black;border-radius: 0.25em;background-color: #f0f8ff;}#sk-container-id-1 input.sk-toggleable__control:checked~div.sk-toggleable__content {max-height: 200px;max-width: 100%;overflow: auto;}#sk-container-id-1 input.sk-toggleable__control:checked~label.sk-toggleable__label-arrow:before {content: \"▾\";}#sk-container-id-1 div.sk-estimator input.sk-toggleable__control:checked~label.sk-toggleable__label {background-color: #d4ebff;}#sk-container-id-1 div.sk-label input.sk-toggleable__control:checked~label.sk-toggleable__label {background-color: #d4ebff;}#sk-container-id-1 input.sk-hidden--visually {border: 0;clip: rect(1px 1px 1px 1px);clip: rect(1px, 1px, 1px, 1px);height: 1px;margin: -1px;overflow: hidden;padding: 0;position: absolute;width: 1px;}#sk-container-id-1 div.sk-estimator {font-family: monospace;background-color: #f0f8ff;border: 1px dotted black;border-radius: 0.25em;box-sizing: border-box;margin-bottom: 0.5em;}#sk-container-id-1 div.sk-estimator:hover {background-color: #d4ebff;}#sk-container-id-1 div.sk-parallel-item::after {content: \"\";width: 100%;border-bottom: 1px solid gray;flex-grow: 1;}#sk-container-id-1 div.sk-label:hover label.sk-toggleable__label {background-color: #d4ebff;}#sk-container-id-1 div.sk-serial::before {content: \"\";position: absolute;border-left: 1px solid gray;box-sizing: border-box;top: 0;bottom: 0;left: 50%;z-index: 0;}#sk-container-id-1 div.sk-serial {display: flex;flex-direction: column;align-items: center;background-color: white;padding-right: 0.2em;padding-left: 0.2em;position: relative;}#sk-container-id-1 div.sk-item {position: relative;z-index: 1;}#sk-container-id-1 div.sk-parallel {display: flex;align-items: stretch;justify-content: center;background-color: white;position: relative;}#sk-container-id-1 div.sk-item::before, #sk-container-id-1 div.sk-parallel-item::before {content: \"\";position: absolute;border-left: 1px solid gray;box-sizing: border-box;top: 0;bottom: 0;left: 50%;z-index: -1;}#sk-container-id-1 div.sk-parallel-item {display: flex;flex-direction: column;z-index: 1;position: relative;background-color: white;}#sk-container-id-1 div.sk-parallel-item:first-child::after {align-self: flex-end;width: 50%;}#sk-container-id-1 div.sk-parallel-item:last-child::after {align-self: flex-start;width: 50%;}#sk-container-id-1 div.sk-parallel-item:only-child::after {width: 0;}#sk-container-id-1 div.sk-dashed-wrapped {border: 1px dashed gray;margin: 0 0.4em 0.5em 0.4em;box-sizing: border-box;padding-bottom: 0.4em;background-color: white;}#sk-container-id-1 div.sk-label label {font-family: monospace;font-weight: bold;display: inline-block;line-height: 1.2em;}#sk-container-id-1 div.sk-label-container {text-align: center;}#sk-container-id-1 div.sk-container {/* jupyter's `normalize.less` sets `[hidden] { display: none; }` but bootstrap.min.css set `[hidden] { display: none !important; }` so we also need the `!important` here to be able to override the default hidden behavior on the sphinx rendered scikit-learn.org. See: https://github.com/scikit-learn/scikit-learn/issues/21755 */display: inline-block !important;position: relative;}#sk-container-id-1 div.sk-text-repr-fallback {display: none;}</style><div id=\"sk-container-id-1\" class=\"sk-top-container\"><div class=\"sk-text-repr-fallback\"><pre>Pipeline(steps=[(&#x27;tfidfvectorizer&#x27;, TfidfVectorizer()),\n",
       "                (&#x27;sgdregressor&#x27;, SGDRegressor(random_state=42))])</pre><b>In a Jupyter environment, please rerun this cell to show the HTML representation or trust the notebook. <br />On GitHub, the HTML representation is unable to render, please try loading this page with nbviewer.org.</b></div><div class=\"sk-container\" hidden><div class=\"sk-item sk-dashed-wrapped\"><div class=\"sk-label-container\"><div class=\"sk-label sk-toggleable\"><input class=\"sk-toggleable__control sk-hidden--visually\" id=\"sk-estimator-id-1\" type=\"checkbox\" ><label for=\"sk-estimator-id-1\" class=\"sk-toggleable__label sk-toggleable__label-arrow\">Pipeline</label><div class=\"sk-toggleable__content\"><pre>Pipeline(steps=[(&#x27;tfidfvectorizer&#x27;, TfidfVectorizer()),\n",
       "                (&#x27;sgdregressor&#x27;, SGDRegressor(random_state=42))])</pre></div></div></div><div class=\"sk-serial\"><div class=\"sk-item\"><div class=\"sk-estimator sk-toggleable\"><input class=\"sk-toggleable__control sk-hidden--visually\" id=\"sk-estimator-id-2\" type=\"checkbox\" ><label for=\"sk-estimator-id-2\" class=\"sk-toggleable__label sk-toggleable__label-arrow\">TfidfVectorizer</label><div class=\"sk-toggleable__content\"><pre>TfidfVectorizer()</pre></div></div></div><div class=\"sk-item\"><div class=\"sk-estimator sk-toggleable\"><input class=\"sk-toggleable__control sk-hidden--visually\" id=\"sk-estimator-id-3\" type=\"checkbox\" ><label for=\"sk-estimator-id-3\" class=\"sk-toggleable__label sk-toggleable__label-arrow\">SGDRegressor</label><div class=\"sk-toggleable__content\"><pre>SGDRegressor(random_state=42)</pre></div></div></div></div></div></div></div>"
      ],
      "text/plain": [
       "Pipeline(steps=[('tfidfvectorizer', TfidfVectorizer()),\n",
       "                ('sgdregressor', SGDRegressor(random_state=42))])"
      ]
     },
     "execution_count": 22,
     "metadata": {},
     "output_type": "execute_result"
    }
   ],
   "source": [
    "model.fit(learning_df['tag'], learning_df['rating'])"
   ]
  },
  {
   "cell_type": "code",
   "execution_count": 23,
   "id": "dc6f467b-f948-468e-81dc-b4172118c878",
   "metadata": {},
   "outputs": [
    {
     "data": {
      "text/plain": [
       "array([3.3679659, 4.0436624])"
      ]
     },
     "execution_count": 23,
     "metadata": {},
     "output_type": "execute_result"
    }
   ],
   "source": [
    "model.predict([\"jqehioqhro\", \"Horror movie\"])"
   ]
  },
  {
   "cell_type": "code",
   "execution_count": 24,
   "id": "e16fd399-476c-40b1-8d70-9c7dd894f20f",
   "metadata": {},
   "outputs": [],
   "source": [
    "@f.pandas_udf(DoubleType())\n",
    "def tags_rating(tags: pd.Series) -> pd.Series:\n",
    "    return pd.Series(model.predict(tags))"
   ]
  },
  {
   "cell_type": "code",
   "execution_count": 25,
   "id": "faf7863e-da4a-4752-83f2-f5e90ecd8d5a",
   "metadata": {
    "scrolled": true
   },
   "outputs": [
    {
     "name": "stdout",
     "output_type": "stream",
     "text": [
      "+-------------+------+------------------+\n",
      "|          tag|rating|       tags_rating|\n",
      "+-------------+------+------------------+\n",
      "|          fun|   4.0|  4.08019481944535|\n",
      "|        pixar|   4.0|3.9155194596438916|\n",
      "|        pixar|   4.0|3.9155194596438916|\n",
      "|          old|   4.0|3.4093771019280896|\n",
      "|        moldy|   4.0| 3.410239597025357|\n",
      "|serial killer|   5.0|3.8375621859910116|\n",
      "| twist ending|   5.0| 4.097225346883247|\n",
      "|      mystery|   5.0| 3.988479121686566|\n",
      "|        heist|   5.0|4.0552802333775135|\n",
      "| twist ending|   5.0| 4.097225346883247|\n",
      "+-------------+------+------------------+\n",
      "only showing top 10 rows\n",
      "\n"
     ]
    },
    {
     "name": "stderr",
     "output_type": "stream",
     "text": [
      "                                                                                \r"
     ]
    }
   ],
   "source": [
    "learning_df_spark = learning_df_spark \\\n",
    "    .withColumn(\"tags_rating\", tags_rating(\"tag\"))\n",
    "\n",
    "learning_df_spark.show(10)"
   ]
  },
  {
   "cell_type": "markdown",
   "id": "534cb283-addd-4903-81fd-0fbd39b66375",
   "metadata": {},
   "source": [
    "![tags-rating](./img/tags-rating.png)"
   ]
  },
  {
   "cell_type": "code",
   "execution_count": 26,
   "id": "386ee6e2-f7be-468e-b57d-e90add0ebdc2",
   "metadata": {
    "scrolled": true
   },
   "outputs": [
    {
     "name": "stderr",
     "output_type": "stream",
     "text": [
      "                                                                                \r"
     ]
    },
    {
     "data": {
      "text/plain": [
       "0.9423286411653277"
      ]
     },
     "execution_count": 26,
     "metadata": {},
     "output_type": "execute_result"
    }
   ],
   "source": [
    "rmse = learning_df_spark \\\n",
    "    .agg((f.mean((f.col(\"tags_rating\") - f.col(\"rating\")) ** 2) ** 0.5)) \\\n",
    "    .first()[0]\n",
    "rmse"
   ]
  },
  {
   "cell_type": "markdown",
   "id": "1478ffde-0df2-450d-9d56-38970d8743de",
   "metadata": {},
   "source": [
    "**1 stage, 3 tasks**\n",
    "![metric](./img/metric.png)"
   ]
  },
  {
   "cell_type": "code",
   "execution_count": null,
   "id": "7e6fc861-d80f-4181-9588-240d26da9730",
   "metadata": {},
   "outputs": [],
   "source": []
  }
 ],
 "metadata": {
  "kernelspec": {
   "display_name": "Python 3 (ipykernel)",
   "language": "python",
   "name": "python3"
  },
  "language_info": {
   "codemirror_mode": {
    "name": "ipython",
    "version": 3
   },
   "file_extension": ".py",
   "mimetype": "text/x-python",
   "name": "python",
   "nbconvert_exporter": "python",
   "pygments_lexer": "ipython3",
   "version": "3.10.12"
  }
 },
 "nbformat": 4,
 "nbformat_minor": 5
}
